{
 "cells": [
  {
   "cell_type": "markdown",
   "metadata": {},
   "source": [
    "# Preprocess Data"
   ]
  },
  {
   "cell_type": "code",
   "execution_count": null,
   "metadata": {},
   "outputs": [],
   "source": [
    "from data_processing import dataProcessor"
   ]
  },
  {
   "cell_type": "markdown",
   "metadata": {},
   "source": [
    "## Alphabets"
   ]
  },
  {
   "cell_type": "code",
   "execution_count": null,
   "metadata": {},
   "outputs": [],
   "source": [
    "# Pre-process data. dataProcessor(source, target, lmap)\n",
    "dataProcessor(\"Fine_Tuning/SS_alpha_data\", \"alphabets/fine_tune_ss\", \"alpha\")"
   ]
  },
  {
   "cell_type": "markdown",
   "metadata": {},
   "source": [
    "## Numbers"
   ]
  },
  {
   "cell_type": "code",
   "execution_count": null,
   "metadata": {},
   "outputs": [],
   "source": [
    "# Pre-process data. dataProcessor(source, target, lmap)\n",
    "dataProcessor(\"Fine_Tuning/SS_num_data\", \"numbers/num_fine_tune_ss\", \"num_ft\")"
   ]
  },
  {
   "cell_type": "code",
   "execution_count": null,
   "metadata": {},
   "outputs": [],
   "source": [
    "import numpy as np\n",
    "from sklearn.model_selection import train_test_split\n",
    "\n",
    "import tensorflow as tf\n",
    "from tensorflow.keras.utils import to_categorical\n",
    "from tensorflow.keras.callbacks import EarlyStopping, ReduceLROnPlateau\n",
    "from tensorflow.keras.models import load_model"
   ]
  },
  {
   "cell_type": "markdown",
   "metadata": {},
   "source": [
    "# Load Data For ASL (AlphabetS)"
   ]
  },
  {
   "cell_type": "code",
   "execution_count": null,
   "metadata": {},
   "outputs": [],
   "source": [
    "# Load the data and labels\n",
    "train_data = np.load(\"Data/numpy/alphabets/train_data.npy\")\n",
    "train_labels = np.load(\"Data/numpy/alphabets/train_labels.npy\")\n",
    "\n",
    "test_data = np.load(\"Data/numpy/alphabets/test_data.npy\")\n",
    "test_labels = np.load(\"Data/numpy/alphabets/test_labels.npy\")\n",
    "\n",
    "# Reshape data for CNN\n",
    "train_data = train_data.reshape(-1, 21, 3, 1)\n",
    "test_data = test_data.reshape(-1, 21, 3, 1)\n",
    "\n",
    "# Convert labels to categorical format\n",
    "num_classes = len(np.unique(train_labels))\n",
    "\n",
    "train_labels = to_categorical(train_labels, num_classes)\n",
    "test_labels = to_categorical(test_labels, num_classes)\n",
    "\n",
    "print(train_data.shape, train_labels.shape, test_data.shape, test_labels.shape)"
   ]
  },
  {
   "cell_type": "code",
   "execution_count": null,
   "metadata": {},
   "outputs": [],
   "source": [
    "# load new data\n",
    "new_data = np.load('Data/numpy/alphabets/fine_tune_ss_data.npy')\n",
    "new_labels = np.load('Data/numpy/alphabets/fine_tune_ss_labels.npy')\n",
    "\n",
    "# reshape data for CNN\n",
    "new_data = new_data.reshape(-1,21,3,1)\n",
    "\n",
    "#convert labels to categorical format\n",
    "new_labels = to_categorical(new_labels, num_classes)\n",
    "\n",
    "print(new_data.shape, new_labels.shape)"
   ]
  },
  {
   "cell_type": "code",
   "execution_count": null,
   "metadata": {},
   "outputs": [],
   "source": [
    "# Load pre-trained model\n",
    "model = load_model(\"models/asl_alphabet_model.keras\")"
   ]
  },
  {
   "cell_type": "markdown",
   "metadata": {},
   "source": [
    "# Load Data For ASL (NumberS)"
   ]
  },
  {
   "cell_type": "code",
   "execution_count": null,
   "metadata": {},
   "outputs": [],
   "source": [
    "# Load the data and labels\n",
    "train_data = np.load(\"Data/numpy/numbers/num_train_data.npy\")\n",
    "train_labels = np.load(\"Data/numpy/numbers/num_train_labels.npy\")\n",
    "\n",
    "test_data = np.load(\"Data/numpy/numbers/num_test_data.npy\")\n",
    "test_labels = np.load(\"Data/numpy/numbers/num_test_labels.npy\")\n",
    "\n",
    "# Reshape data for CNN\n",
    "train_data = train_data.reshape(-1, 21, 3, 1)\n",
    "test_data = test_data.reshape(-1, 21, 3, 1)\n",
    "\n",
    "# Convert labels to categorical format\n",
    "num_classes = len(np.unique(train_labels))\n",
    "\n",
    "train_labels = to_categorical(train_labels, num_classes)\n",
    "test_labels = to_categorical(test_labels, num_classes)\n",
    "\n",
    "print(train_data.shape, train_labels.shape, test_data.shape, test_labels.shape)"
   ]
  },
  {
   "cell_type": "code",
   "execution_count": null,
   "metadata": {},
   "outputs": [],
   "source": [
    "# load new data\n",
    "new_data = np.load('Data/numpy/numbers/num_fine_tune_ss_data.npy')\n",
    "new_labels = np.load('Data/numpy/numbers/num_fine_tune_ss_labels.npy')\n",
    "\n",
    "# reshape data for CNN\n",
    "new_data = new_data.reshape(-1,21,3,1)\n",
    "\n",
    "#convert labels to categorical format\n",
    "new_labels = to_categorical(new_labels, num_classes)\n",
    "\n",
    "print(new_data.shape, new_labels.shape)"
   ]
  },
  {
   "cell_type": "code",
   "execution_count": null,
   "metadata": {},
   "outputs": [],
   "source": [
    "# Load pre-trained model\n",
    "model = load_model(\"models/asl_number_model.keras\")"
   ]
  },
  {
   "cell_type": "code",
   "execution_count": null,
   "metadata": {},
   "outputs": [],
   "source": [
    "# Combine old and new data\n",
    "combined_data = np.concatenate((train_data, new_data), axis=0)\n",
    "combined_labels = np.concatenate((train_labels, new_labels), axis=0)"
   ]
  },
  {
   "cell_type": "code",
   "execution_count": null,
   "metadata": {},
   "outputs": [],
   "source": [
    "x_train, x_val, y_train, y_val = train_test_split(\n",
    "    combined_data, combined_labels, test_size=0.2, shuffle=True, stratify=combined_labels\n",
    ")"
   ]
  },
  {
   "cell_type": "code",
   "execution_count": null,
   "metadata": {},
   "outputs": [],
   "source": [
    "# Fine-tune the model with a smaller learning rate\n",
    "model.compile(optimizer=tf.keras.optimizers.Adam(learning_rate=1e-5),\n",
    "              loss=\"categorical_crossentropy\",\n",
    "              metrics=[\"accuracy\"])\n",
    "\n",
    "model.summary()"
   ]
  },
  {
   "cell_type": "code",
   "execution_count": null,
   "metadata": {},
   "outputs": [],
   "source": [
    "# Callbacks\n",
    "early_stopping = EarlyStopping(monitor='val_loss', patience=5, restore_best_weights=True)\n",
    "\n",
    "reduce_lr = ReduceLROnPlateau(monitor='val_loss', factor=0.2, patience=5, min_lr=1e-6)"
   ]
  },
  {
   "cell_type": "code",
   "execution_count": null,
   "metadata": {},
   "outputs": [],
   "source": [
    "# Fine-tune the model\n",
    "history = model.fit(x_train, y_train, epochs=100, validation_data=(x_val,y_val), callbacks=[early_stopping, reduce_lr])"
   ]
  },
  {
   "cell_type": "code",
   "execution_count": null,
   "metadata": {},
   "outputs": [],
   "source": [
    "# Evaluate the model on the test set to check performance\n",
    "test_loss, test_accuracy = model.evaluate(test_data, test_labels)\n",
    "print(f\"Test loss: {test_loss}, Test accuracy: {test_accuracy}\")"
   ]
  },
  {
   "cell_type": "code",
   "execution_count": null,
   "metadata": {},
   "outputs": [],
   "source": [
    "import matplotlib.pyplot as plt\n",
    "\n",
    "epochs = [i for i in range(100)]\n",
    "fig,ax = plt.subplots(1,2)\n",
    "train_acc = history.history['accuracy']\n",
    "train_loss = history.history['loss']\n",
    "val_acc = history.history['val_accuracy']\n",
    "val_loss = history.history['val_loss']\n",
    "fig.set_size_inches(16,9)\n",
    "\n",
    "\n",
    "ax[0].plot(epochs, train_acc, 'g', label='Training Accuracy')\n",
    "ax[0].plot(epochs, val_acc, 'r', label = 'Validation Accuracy')\n",
    "ax[0].set_xlabel('Epochs')\n",
    "ax[0].set_ylabel('Accuracy')\n",
    "ax[0].set_title('Training & Validation Accuracy')\n",
    "ax[0].legend()\n",
    "\n",
    "\n",
    "ax[1].plot(epochs, train_loss, 'g', label='Training Loss')\n",
    "ax[1].plot(epochs, val_loss, 'r', label='Validation Loss')\n",
    "ax[1].set_xlabel('Epochs')\n",
    "ax[1].set_ylabel('Loss')\n",
    "ax[1].set_title('Training & Validation Loss')\n",
    "ax[1].legend()"
   ]
  },
  {
   "cell_type": "code",
   "execution_count": null,
   "metadata": {},
   "outputs": [],
   "source": []
  }
 ],
 "metadata": {
  "kernelspec": {
   "display_name": ".venv",
   "language": "python",
   "name": "python3"
  },
  "language_info": {
   "codemirror_mode": {
    "name": "ipython",
    "version": 3
   },
   "file_extension": ".py",
   "mimetype": "text/x-python",
   "name": "python",
   "nbconvert_exporter": "python",
   "pygments_lexer": "ipython3",
   "version": "3.10.14"
  }
 },
 "nbformat": 4,
 "nbformat_minor": 2
}
